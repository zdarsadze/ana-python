{
 "cells": [
  {
   "cell_type": "markdown",
   "id": "125114f6",
   "metadata": {},
   "source": [
    "__დავალება 1.__\n",
    "\n",
    "დაამთავრეთ პრორამის კოდი კლავიატურიდან შეტანილი რიცხვის მოდულის გამოსათვლელად. შედეგის ეკრანზე გამოსატანად გამოიყენეთ ფუნქცია `print`.\n",
    "\n",
    "_ნიმუში:_\n",
    "\n",
    "```python\n",
    "Sample Input:\n",
    "-5\n",
    "\n",
    "Sample Output:\n",
    "5\n",
    "```"
   ]
  },
  {
   "cell_type": "code",
   "execution_count": 3,
   "id": "1935c221",
   "metadata": {},
   "outputs": [
    {
     "name": "stdin",
     "output_type": "stream",
     "text": [
      " -5\n"
     ]
    },
    {
     "name": "stdout",
     "output_type": "stream",
     "text": [
      "5\n"
     ]
    }
   ],
   "source": [
    "d = int(input())\n",
    "print(abs(d))\n"
   ]
  },
  {
   "cell_type": "code",
   "execution_count": null,
   "id": "13b874b9-fb2d-4a41-8ab8-1fb8785a6fc9",
   "metadata": {},
   "outputs": [],
   "source": []
  },
  {
   "cell_type": "markdown",
   "id": "43aab7df",
   "metadata": {},
   "source": [
    "__დავალება 2.__\n",
    "\n",
    "დაამთავრეთ პრორამის კოდი კლავიატურიდან ხუთი შეტანილი რიცხვიდან მინიმუმის საპოვნელად. შედეგის ეკრანზე გამოსატანად გამოიყენეთ ფუნქცია `print`.\n",
    "\n",
    "_ნიმუში:_\n",
    "\n",
    "```python\n",
    "Sample Input:\n",
    "8 11 -5 3 0\n",
    "\n",
    "Sample Output:\n",
    "-5\n",
    "```"
   ]
  },
  {
   "cell_type": "code",
   "execution_count": 2,
   "id": "84f09750",
   "metadata": {},
   "outputs": [
    {
     "name": "stdin",
     "output_type": "stream",
     "text": [
      " 8 11 -5 3 0\n"
     ]
    },
    {
     "name": "stdout",
     "output_type": "stream",
     "text": [
      "-5\n"
     ]
    }
   ],
   "source": [
    "d1, d2, d3, d4, d5 = map(int, input().split())\n",
    "print(min(d1,d2,d3,d4,d5))"
   ]
  },
  {
   "cell_type": "markdown",
   "id": "55cc3a38",
   "metadata": {},
   "source": [
    "__დავალება 3.__\n",
    "\n",
    "დაამთავრეთ პრორამის კოდი კლავიატურიდან ხუთი შეტანილი რიცხვიდან მაქსიმუმის საპოვნელად. შედეგის ეკრანზე გამოსატანად გამოიყენეთ ფუნქცია `print`.\n",
    "\n",
    "_ნიმუში:_\n",
    "\n",
    "```python\n",
    "Sample Input:\n",
    "8 11 -5 3 0\n",
    "\n",
    "Sample Output:\n",
    "11\n",
    "```"
   ]
  },
  {
   "cell_type": "code",
   "execution_count": 4,
   "id": "85b8099a",
   "metadata": {},
   "outputs": [
    {
     "name": "stdin",
     "output_type": "stream",
     "text": [
      " 8 11 -5 3 0\n"
     ]
    },
    {
     "name": "stdout",
     "output_type": "stream",
     "text": [
      "11\n"
     ]
    }
   ],
   "source": [
    "d1, d2, d3, d4, d5 = map(int, input().split())\n",
    "print(max(d1,d2,d3,d4,d5))"
   ]
  },
  {
   "cell_type": "markdown",
   "id": "af21b1ad",
   "metadata": {},
   "source": [
    "__დავალება 4.__\n",
    "\n",
    "რომელი ბრძანება უნდა ჩავწეროთ პროგრამაში `math` მოდულის გამოსაყენებლად?\n",
    "\n",
    "* math import\n",
    "* include math\n",
    "* math\n",
    "* import from math\n",
    "* import math"
   ]
  },
  {
   "cell_type": "code",
   "execution_count": 6,
   "id": "1a3b9955",
   "metadata": {},
   "outputs": [],
   "source": [
    "import math"
   ]
  },
  {
   "cell_type": "markdown",
   "id": "55c07246",
   "metadata": {},
   "source": [
    "__დავალება 5.__\n",
    "\n",
    "დაამთავრეთ პრორამის კოდი მოცემული ფორმულით:\n",
    "\n",
    "$$ \\sqrt{a^2 + b^2} $$\n",
    "\n",
    "`a` და `b` კლავიატურიდან შეტანილი მთელი რიცხვებია. შედეგი დაამრგვალეთ მეასედამდე. ეკრანზე გამოსატანად გამოიყენეთ ფუნქცია `print`.\n",
    "\n",
    "_ნიმუში:_\n",
    "\n",
    "```python\n",
    "Sample Input:\n",
    "3 4\n",
    "\n",
    "Sample Output:\n",
    "5.0\n",
    "```"
   ]
  },
  {
   "cell_type": "code",
   "execution_count": 10,
   "id": "23d43b46",
   "metadata": {
    "scrolled": true
   },
   "outputs": [
    {
     "name": "stdin",
     "output_type": "stream",
     "text": [
      " 3 4\n"
     ]
    },
    {
     "name": "stdout",
     "output_type": "stream",
     "text": [
      "5.0\n"
     ]
    }
   ],
   "source": [
    "a, b = map(int, input().split())\n",
    "print(round(math.sqrt(a**2+b**2), 2))"
   ]
  },
  {
   "cell_type": "markdown",
   "id": "ff2841c5",
   "metadata": {},
   "source": [
    "__დავალება 6.__\n",
    "\n",
    "დაამთავრეთ პრორამის კოდი მოცემული ფორმულით:\n",
    "\n",
    "$$ C^k_n = \\frac{n!}{k!(n - k)!} $$\n",
    "\n",
    "`n` და `k` კლავიატურიდან შეტანილი მთელი რიცხვებია. შედეგი გამოიტანეთ ეკრანზე მთელი რიცხვის სახით `print` ფუნქციის გაოყენებით.\n",
    "\n",
    "_ნიმუში:_\n",
    "```python\n",
    "Sample Input:\n",
    "6 3\n",
    "\n",
    "Sample Output:\n",
    "20\n",
    "```"
   ]
  },
  {
   "cell_type": "code",
   "execution_count": 20,
   "id": "41bdab06",
   "metadata": {},
   "outputs": [
    {
     "name": "stdin",
     "output_type": "stream",
     "text": [
      " 6 3\n"
     ]
    },
    {
     "name": "stdout",
     "output_type": "stream",
     "text": [
      "20\n"
     ]
    }
   ],
   "source": [
    "import math\n",
    "n, k = map(int, input().split())\n",
    "print(math.trunc(math.factorial(n) / (math.factorial(k) * (math.factorial(n - k)))))"
   ]
  },
  {
   "cell_type": "markdown",
   "id": "01a52492",
   "metadata": {},
   "source": [
    "__დავალება 7.__\n",
    "\n",
    "საზაფხულო ბანაკში საჭიროა `n` ბავშვისა და `m` მასწავლებლის ავტობუსით გადაყვანა. ავტობუსში ეტევა 20 ადამიანი. დაამთავრეთ პროგრამის კოდი მინიმალური რაოდენობის ავტობუსის გამოსათვლელად ბავშვებისა და მასწავლებლების გადასაყვანად. შედეგი გამოიტანეთ ეკრანზე მთელი რიცხვის სახით `print` ფუნქციის გაოყენებით.\n",
    "\n",
    "_ნიმუში:_\n",
    "```python\n",
    "Sample Input:\n",
    "40 5\n",
    "\n",
    "Sample Output:\n",
    "3\n",
    "```"
   ]
  },
  {
   "cell_type": "code",
   "execution_count": 24,
   "id": "869fa649",
   "metadata": {},
   "outputs": [
    {
     "name": "stdin",
     "output_type": "stream",
     "text": [
      " 40 5\n"
     ]
    },
    {
     "name": "stdout",
     "output_type": "stream",
     "text": [
      "3\n"
     ]
    }
   ],
   "source": [
    "n, m = map(int, input().split())\n",
    "print((math.ceil((n+m)/20)))"
   ]
  },
  {
   "cell_type": "markdown",
   "id": "ab033280",
   "metadata": {},
   "source": [
    "__დავალება 8.__\n",
    "\n",
    "ტუშის კალამი ღირს `x` ლარი. მაღაზიაში მოქმედებს 10%-იანი ფასდაკლება კალმების შესყიდვაზე. რა მაქსიმალური რაოდენობის კალმის ყიდვაა შესაძლებელი 25 ლარის შემთხვევაში? შედეგი გამოიტანეთ ეკრანზე მთელი რიცხვის სახით `print` ფუნქციის გაოყენებით.\n",
    "\n",
    "_ნიმუში:_\n",
    "```python\n",
    "Sample Input:\n",
    "1\n",
    "\n",
    "Sample Output:\n",
    "27\n",
    "```"
   ]
  },
  {
   "cell_type": "code",
   "execution_count": 25,
   "id": "ed3ac4f7",
   "metadata": {
    "scrolled": true
   },
   "outputs": [
    {
     "name": "stdin",
     "output_type": "stream",
     "text": [
      " 1\n"
     ]
    },
    {
     "name": "stdout",
     "output_type": "stream",
     "text": [
      "27\n"
     ]
    }
   ],
   "source": [
    "x = int(input())\n",
    "xy= x * 0.9\n",
    "num= 25 // xy\n",
    "print(int(num))"
   ]
  },
  {
   "cell_type": "code",
   "execution_count": null,
   "id": "00a8c32a-33c0-4295-a37e-8a0469a06d75",
   "metadata": {},
   "outputs": [],
   "source": []
  }
 ],
 "metadata": {
  "kernelspec": {
   "display_name": "Python 3 (ipykernel)",
   "language": "python",
   "name": "python3"
  },
  "language_info": {
   "codemirror_mode": {
    "name": "ipython",
    "version": 3
   },
   "file_extension": ".py",
   "mimetype": "text/x-python",
   "name": "python",
   "nbconvert_exporter": "python",
   "pygments_lexer": "ipython3",
   "version": "3.12.6"
  }
 },
 "nbformat": 4,
 "nbformat_minor": 5
}

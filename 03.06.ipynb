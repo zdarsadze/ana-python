{
 "cells": [
  {
   "cell_type": "markdown",
   "id": "f0bba0f6",
   "metadata": {},
   "source": [
    "__დავალება 1.__\n",
    "\n",
    "რომელი ტიპის მონაცებს მიეკუთვნება სია?\n",
    "\n",
    "* როგორც ცვლად, ასევე არაცვლად ტიპებს  \n",
    "* არაცვლად ტიპს  \n",
    "* ცვლად ტიპს  "
   ]
  },
  {
   "cell_type": "code",
   "execution_count": null,
   "id": "74755861",
   "metadata": {},
   "outputs": [],
   "source": [
    "ცვილად ტიპს"
   ]
  },
  {
   "cell_type": "markdown",
   "id": "f851f930",
   "metadata": {},
   "source": [
    "__დავალება 2.__\n",
    "\n",
    "რომელი კონსტრუქცია ან ფუნქცია ქმნის სიას? ჩაწერეთ ყველა სწორი ვარიანტი. \n",
    "\n",
    "* `bool()`  \n",
    "* `int()`  \n",
    "* `[]`  \n",
    "* `{}`  \n",
    "* `list()`  \n",
    "* `str()`  \n",
    "* `()`  "
   ]
  },
  {
   "cell_type": "code",
   "execution_count": null,
   "id": "ecc08219",
   "metadata": {},
   "outputs": [],
   "source": [
    "[]\n",
    "list()"
   ]
  },
  {
   "cell_type": "markdown",
   "id": "d64c17ad",
   "metadata": {},
   "source": [
    "__დავალება 3.__\n",
    "\n",
    "შეიტანეთ სამი მთელი რიცვხვი ერთი სტრიქონად. შეტანილი რიცხვები გარდაქმენით სიად და დაბეჭდეთ ეკრანზე იმავე თანმიმდევრობით.\n",
    "\n",
    "```python\n",
    "Sample Input:\n",
    "8 11 3\n",
    "\n",
    "Sample Output:\n",
    "[8, 11, 3]\n",
    "```"
   ]
  },
  {
   "cell_type": "code",
   "execution_count": 1,
   "id": "32510433",
   "metadata": {},
   "outputs": [
    {
     "name": "stdin",
     "output_type": "stream",
     "text": [
      " 8 11 3\n"
     ]
    },
    {
     "name": "stdout",
     "output_type": "stream",
     "text": [
      "[8, 11, 3]\n"
     ]
    }
   ],
   "source": [
    "x = input().split()\n",
    "y = [int(num) for num in x]\n",
    "print(y)\n"
   ]
  },
  {
   "cell_type": "markdown",
   "id": "c70b22db",
   "metadata": {},
   "source": [
    "__დავალება 4.__\n",
    "\n",
    "შეიტანეთ ქალაქების სახელწოდება ერთი სტრიქონად. მიღებული სტრიქონი გარდაქმენით სიად: `cities = input().split()`. შეამოწმეთ არის თუ არა Gali სიაში. დაბეჭდეთ `True` ან `False`. \n",
    "\n",
    "```python\n",
    "Sample Input:\n",
    "Rustavi Telavi Gali Senaki\n",
    "\n",
    "Sample Output:\n",
    "True\n",
    "```"
   ]
  },
  {
   "cell_type": "code",
   "execution_count": 2,
   "id": "47e841bb",
   "metadata": {},
   "outputs": [
    {
     "name": "stdin",
     "output_type": "stream",
     "text": [
      " Rustavi Telavi Gali Senaki\n"
     ]
    },
    {
     "name": "stdout",
     "output_type": "stream",
     "text": [
      "True\n"
     ]
    }
   ],
   "source": [
    "cities = input().split()\n",
    "print(\"Gali\" in cities)"
   ]
  },
  {
   "cell_type": "markdown",
   "id": "8011fd40",
   "metadata": {},
   "source": [
    "__დავალება 5.__\n",
    "\n",
    "რომელი ინდექსით შესაძლებელია სიის ელემენტზე (5) წვდომა:  \n",
    "`a = [0, True, \"Tbilisi\", 5, False, \"Gori\"]`  \n",
    "ჩაწერეთ ყველა სწორი ვარიანტი.\n",
    "\n",
    "* 4\n",
    "* -5\n",
    "* -3\n",
    "* -4\n",
    "* 5\n",
    "* 3"
   ]
  },
  {
   "cell_type": "code",
   "execution_count": null,
   "id": "cead6e18",
   "metadata": {},
   "outputs": [],
   "source": [
    "4 -5"
   ]
  },
  {
   "cell_type": "markdown",
   "id": "a990d3e8",
   "metadata": {},
   "source": [
    "__დავალება 6.__\n",
    "\n",
    "შეიტანეთ ქალაქების სახელწოდებები ერთ ხაზად. მიღებული სტრიქონი გარდაქმენით სიად: `cities = input().split()`. დაბეჭდეთ სიის ბოლო ელემენტი.\n",
    "\n",
    "```python\n",
    "Sample Input:\n",
    "Tbilisi Batumi Sokhumi Gagra Borjomi\n",
    "\n",
    "Sample Output:\n",
    "Borjomi\n",
    "```"
   ]
  },
  {
   "cell_type": "code",
   "execution_count": 3,
   "id": "897d3144",
   "metadata": {},
   "outputs": [
    {
     "name": "stdin",
     "output_type": "stream",
     "text": [
      " Tbilisi Batumi Sokhumi Gagra Borjomi\n"
     ]
    },
    {
     "name": "stdout",
     "output_type": "stream",
     "text": [
      "Borjomi\n"
     ]
    }
   ],
   "source": [
    "cities = input().split()\n",
    "print(cities[-1])"
   ]
  },
  {
   "cell_type": "markdown",
   "id": "4bbde338",
   "metadata": {},
   "source": [
    "__დავალება 7.__\n",
    "\n",
    "შეიტანეთ მოსწავლის ქულები (მთელი რიცხვი 6-დან 10-ის ჩათვლით) ერთ სტრიქონად. სტრიქონი გარდაქმენით სიად: `marks = list(map(int, input().split()))`. გამოთვალეთ საშუალო ქულა და დაბეჭდეთ ეკრანზე მეათედი სიზუსტით (წერტილის შემდეგ ერთ ციფრი: 8.3).  \n",
    "მაგ.: `print(round(8.34523, 1)) = 8.3`\n",
    "\n",
    "```python\n",
    "Sample Input:\n",
    "6 6 4 8 8 10 8 6 4\n",
    "\n",
    "Sample Output:\n",
    "6.7\n",
    "```"
   ]
  },
  {
   "cell_type": "code",
   "execution_count": 4,
   "id": "07055b26",
   "metadata": {},
   "outputs": [
    {
     "name": "stdin",
     "output_type": "stream",
     "text": [
      " 6 6 4 8 8 10 8 6 4\n"
     ]
    },
    {
     "name": "stdout",
     "output_type": "stream",
     "text": [
      "6.7\n"
     ]
    }
   ],
   "source": [
    "marks = list(map(int, input().split()))\n",
    "avrg = sum(marks) / len(marks)\n",
    "print(round(avrg, 1))\n"
   ]
  },
  {
   "cell_type": "markdown",
   "id": "243b7241",
   "metadata": {},
   "source": [
    "__დავალება 8.__\n",
    "\n",
    "შეიტანეთ ინფორმაცია წიგნის შესახებ (თითოეული მონაცემი სხვადასხვა ზაზზე): სახელწოდება, ავტორი, გვერდების რაოდენობა (მთელი რიცხვი), ფასი (ათწილადი რიცხვი). ამ მომაცემებით შექმენით სია სახელწოდებით `book` შეტანილი ინფორმაციის თანმიმდევრობით. სიიდან წაშალეთ გვერდების რაოდენობა. ავტორი შეცვალეთ: J. Dolson-ით და ფასი გაზარდეთ ორჯერ. მიღებული ინფორმაცია დაბეჭდეთ ეკრანზე: `print(book)`.\n",
    "\n",
    "```python\n",
    "Sample Input:\n",
    "The wolf\n",
    "A. Peterson\n",
    "346\n",
    "15.36\n",
    "\n",
    "Sample Output:\n",
    "['The wolf', 'D. Dolson', 30.72]\n",
    "```"
   ]
  },
  {
   "cell_type": "code",
   "execution_count": 6,
   "id": "9317ce45",
   "metadata": {},
   "outputs": [
    {
     "name": "stdin",
     "output_type": "stream",
     "text": [
      " The wolf\n",
      " A. Peterson\n",
      " 346\n",
      " 15.36\n"
     ]
    },
    {
     "name": "stdout",
     "output_type": "stream",
     "text": [
      "['The wolf', 'D. Dolson', 30.72]\n"
     ]
    }
   ],
   "source": [
    "title = input()  \n",
    "author = input()  \n",
    "pages = int(input())  \n",
    "price = float(input())  \n",
    "\n",
    "book = [title, author, pages, price]\n",
    "del book[2]\n",
    "book[1] = 'D. Dolson'\n",
    "book[2] *= 2\n",
    "print(book)\n",
    "\n"
   ]
  },
  {
   "cell_type": "markdown",
   "id": "6fe4df79",
   "metadata": {},
   "source": [
    "__დავალება 9.__\n",
    "\n",
    "შეიტანეთ სპორტულ არხზე ხელმომწერთა რაოდენობა დღეების მიხედვით ერთ ხაზზე. შეტანილი ინფორმაცია გარდაქმენით სიად. დაბეჭდეთ ეკრანზე მაქსიმალური, მინიმალური და ჯამი.\n",
    "\n",
    "```python\n",
    "Sample Input:\n",
    "52 65 64 54 68 59 42 63\n",
    "\n",
    "Sample Output:\n",
    "68 42 467\n",
    "```"
   ]
  },
  {
   "cell_type": "code",
   "execution_count": 17,
   "id": "4a1bbfed",
   "metadata": {},
   "outputs": [],
   "source": [
    "x = list(map(int, input().split()))\n",
    "max_x = max(x)\n",
    "min_x = min(x)\n",
    "sum_x = sum(x)\n",
    "\n",
    "print(max_x, min_x, sum_x)\n"
   ]
  },
  {
   "cell_type": "markdown",
   "id": "be682314",
   "metadata": {},
   "source": [
    "__დავალება 10.__\n",
    "\n",
    "შეიტანეთ სპორტულ არხზე ხელმომწერთა რაოდენობა დღეების მიხედვით ერთ ხაზზე. შეტანილი ინფორმაცია გარდაქმენით სიად. ეკრანზე დაბეჭდეთ სორტირებული მონაცემები კლებადობის მიხედვით. `print(*lst)`\n",
    "\n",
    "```python\n",
    "Sample Input:\n",
    "52 65 64 54 68 59 42 63\n",
    "\n",
    "Sample Output:\n",
    "68 65 64 63 59 54 52 42\n",
    "```"
   ]
  },
  {
   "cell_type": "code",
   "execution_count": 7,
   "id": "9dc5c318",
   "metadata": {},
   "outputs": [
    {
     "name": "stdin",
     "output_type": "stream",
     "text": [
      " 52 65 64 54 68 59 42 63\n"
     ]
    },
    {
     "name": "stdout",
     "output_type": "stream",
     "text": [
      "68 42 467\n"
     ]
    }
   ],
   "source": [
    "slt = list(map(int, input().split()))\n",
    "slt.sort(reverse=True)\n",
    "\n",
    "print(*lst)"
   ]
  },
  {
   "cell_type": "markdown",
   "id": "27c31f1c",
   "metadata": {},
   "source": [
    "__დავალება 11.__\n",
    "\n",
    "შეუსაბამეთ ერთმანეთს სიის ოპერატორები მათ აღწერილობას.\n",
    "\n",
    "* `+` – ორი სიის გაერთიანება ერთ სიად\n",
    "* `*` – ელემენტის არსებობის შემოწმება სიაში\n",
    "* `in` – სიის დუბლირება\n",
    "* `del` – ელემენტის წაშლა სიიდან"
   ]
  },
  {
   "cell_type": "code",
   "execution_count": 17,
   "id": "c7e483df",
   "metadata": {},
   "outputs": [],
   "source": [
    "+ - ორი სიის გაერთიანება ერთ სიად\n",
    "* - სიის დუბლირება\n",
    "in - ელემენტის არსებობის შემოწმება სიაში\n",
    "del - ელემენტის წაშლა სიიდან"
   ]
  },
  {
   "cell_type": "markdown",
   "id": "04e1e956",
   "metadata": {},
   "source": [
    "__დავალება 12.__\n",
    "\n",
    "შეიტანეთ ქალაქების სახელწოდებები ერთ ხაზზე. შეტანილი ინფორმაციით შექმენით სია. შექმნილი სია დაამატეთ `cities = [\"Tbilisi\", \"Rustavi\", \"Telavi\"]` სიის ბოლოში. მიღებული შედეგი დაბეჭდეთ. `print(*lst)`\n",
    "\n",
    "```python\n",
    "Sample Input:\n",
    "Zugdidi Gori Oni\n",
    "\n",
    "Sample Output:\n",
    "Tbilisi Rustavi Telavi Zugdidi Gori Oni\n",
    "```"
   ]
  },
  {
   "cell_type": "code",
   "execution_count": 8,
   "id": "cb8431fe",
   "metadata": {},
   "outputs": [
    {
     "name": "stdin",
     "output_type": "stream",
     "text": [
      " Zugdidi Gori Oni\n"
     ]
    },
    {
     "name": "stdout",
     "output_type": "stream",
     "text": [
      "Tbilisi Rustavi Telavi Zugdidi Gori Oni\n"
     ]
    }
   ],
   "source": [
    "new_cities = input().split()\n",
    "cities = [\"Tbilisi\", \"Rustavi\", \"Telavi\"]\n",
    "cities = cities + new_cities\n",
    "\n",
    "print(*cities)"
   ]
  },
  {
   "cell_type": "markdown",
   "id": "22aab5e3",
   "metadata": {},
   "source": [
    "__დავალება 13.__\n",
    "\n",
    "შეიტანეთ ქალაქების სახელწოდებები ერთ ხაზზე. შეტანილი ინფორმაციით შექმენით სია. შექმნილი სია დაამატეთ `cities = [\"Batumi\", \"Poti\", \"Ambrolauri\"]` სიის თავში. მიღებული შედეგი დაბეჭდეთ. `print(*lst)`\n",
    "\n",
    "```python\n",
    "Sample Input:\n",
    "Khobi Khoni Kaspi\n",
    "\n",
    "Sample Output:\n",
    "Khobi Khoni Kaspi Batumi Poti Ambrolauri\n",
    "```"
   ]
  },
  {
   "cell_type": "code",
   "execution_count": 9,
   "id": "0470e407",
   "metadata": {},
   "outputs": [
    {
     "name": "stdin",
     "output_type": "stream",
     "text": [
      " Khobi Khoni Kaspi\n"
     ]
    },
    {
     "name": "stdout",
     "output_type": "stream",
     "text": [
      "Khobi Khoni Kaspi Batumi Poti Ambrolauri\n"
     ]
    }
   ],
   "source": [
    "new_cities = input().split()\n",
    "cities = [\"Batumi\", \"Poti\", \"Ambrolauri\"]\n",
    "cities = new_cities + cities\n",
    "\n",
    "print(*cities)\n"
   ]
  },
  {
   "cell_type": "code",
   "execution_count": null,
   "id": "f10b6b5b-576b-482e-a9df-8eba1149ca28",
   "metadata": {},
   "outputs": [],
   "source": []
  }
 ],
 "metadata": {
  "kernelspec": {
   "display_name": "Python 3 (ipykernel)",
   "language": "python",
   "name": "python3"
  },
  "language_info": {
   "codemirror_mode": {
    "name": "ipython",
    "version": 3
   },
   "file_extension": ".py",
   "mimetype": "text/x-python",
   "name": "python",
   "nbconvert_exporter": "python",
   "pygments_lexer": "ipython3",
   "version": "3.12.6"
  }
 },
 "nbformat": 4,
 "nbformat_minor": 5
}

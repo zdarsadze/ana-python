{
 "cells": [
  {
   "cell_type": "markdown",
   "id": "0d33f752",
   "metadata": {},
   "source": [
    "__დავალება 1.__\n",
    "\n",
    "როგორი ბრჭყალების გამოყენებით შესაძლებელია სტრიქონის ჩაწერა?\n",
    "\n",
    "* ერთმაგი\n",
    "* სამი ერთმაგი\n",
    "* სამი ორმაგი\n",
    "* ორმაგი"
   ]
  },
  {
   "cell_type": "code",
   "execution_count": null,
   "id": "4b8fc8c7",
   "metadata": {},
   "outputs": [],
   "source": [
    "    ერთმაგი\n",
    "    სამი ერთმაგი\n",
    "    სამი ორმაგი\n",
    "    ორმაგი"
   ]
  },
  {
   "cell_type": "markdown",
   "id": "caf85ec5",
   "metadata": {},
   "source": [
    "__დავალება 2.__\n",
    "\n",
    "როგორი ბრჭყალების გამოყენებით შესაძლებელია მრავალხაზიანი სტრიქონის ჩაწერა?\n",
    "\n",
    "* სამი ერთმაგი\n",
    "* ერთმაგი\n",
    "* სამი ორმაგი\n",
    "* ორმაგი"
   ]
  },
  {
   "cell_type": "code",
   "execution_count": null,
   "id": "ad9b5ae1",
   "metadata": {},
   "outputs": [],
   "source": [
    "    სამი ერთმაგი\n",
    "    სამი ორმაგი"
   ]
  },
  {
   "cell_type": "markdown",
   "id": "a9cf812f",
   "metadata": {},
   "source": [
    "__დავალება 3.__\n",
    "\n",
    "როგორ ჩაიწერება ახალ ხაზზე გადატანის სიმბოლო?\n",
    "\n",
    "* \\b\n",
    "* \\0\n",
    "* \\\\\n",
    "* \\t\n",
    "* \\n"
   ]
  },
  {
   "cell_type": "code",
   "execution_count": null,
   "id": "914cd6ef",
   "metadata": {},
   "outputs": [],
   "source": [
    "\\n"
   ]
  },
  {
   "cell_type": "markdown",
   "id": "5a27fcbc",
   "metadata": {},
   "source": [
    "__დავალება 4.__\n",
    "\n",
    "რომელ ტიპს მიეკუთვნება სტრიქონი?\n",
    "\n",
    "* უცვლელ ტიპების\n",
    "* ორივე ტიპს, რომელის სტრიქონის განსაზღვრაზე დამოკიდებულია\n",
    "* ცვლად ტიპებს"
   ]
  },
  {
   "cell_type": "code",
   "execution_count": null,
   "id": "ed616645",
   "metadata": {},
   "outputs": [],
   "source": [
    "უცვლელ ტიპების"
   ]
  },
  {
   "cell_type": "markdown",
   "id": "0190090e",
   "metadata": {},
   "source": [
    "__დავალება 5.__\n",
    "\n",
    "შეიტანეთ ორი სტრიქონი (თითოეული შეიტანება ახალი ხაზიდან). გააერთიანეთ ერთ სტრიქონად ინტერვალის გამოყენებით. შედეგი დაბეჭდეთ ეკრანზე.\n",
    "\n",
    "```python\n",
    "Sample Input:\n",
    "hello python\n",
    "i love you\n",
    "\n",
    "Sample Output:\n",
    "hello python i love you\n",
    "```"
   ]
  },
  {
   "cell_type": "code",
   "execution_count": 10,
   "id": "432fb5ef",
   "metadata": {},
   "outputs": [
    {
     "name": "stdin",
     "output_type": "stream",
     "text": [
      " Hello python\n",
      " i love you\n"
     ]
    },
    {
     "name": "stdout",
     "output_type": "stream",
     "text": [
      " Hello python i love you\n"
     ]
    }
   ],
   "source": [
    "a = input()\n",
    "b = input()\n",
    "\n",
    "print(f\" {a} {b}\")"
   ]
  },
  {
   "cell_type": "markdown",
   "id": "97ccbf29",
   "metadata": {},
   "source": [
    "__დავალება 6.__\n",
    "\n",
    "რა დაიბეჭდება: `(1 + 2) * ('7' + '8')`? პასუხი პოგრამის შეუსრულებლად ჩაწერეთ."
   ]
  },
  {
   "cell_type": "code",
   "execution_count": null,
   "id": "e2eadf7d",
   "metadata": {},
   "outputs": [],
   "source": [
    "787878"
   ]
  },
  {
   "cell_type": "markdown",
   "id": "6e40e2c2",
   "metadata": {},
   "source": [
    "__დავალება 7.__\n",
    "\n",
    "შეიტანეთ ორი სიტყვა ინტერვალის გამოყენებით. დაბეჭდეთ ახალი სტრიქონი ისე, რომ პირველი სიტყვა გამეორდეს ორჯერ, მეორე – სამჯერ (სიტყვებს შორის ინტერვალი აუცილებელია). `f`-სტრიქონები არ გამოიყენოთ.\n",
    "\n",
    "```python\n",
    "Sample Input:\n",
    "hello python\n",
    "\n",
    "Sample Output:\n",
    "hello hello python python python\n",
    "```"
   ]
  },
  {
   "cell_type": "code",
   "execution_count": 11,
   "id": "5bea112a",
   "metadata": {},
   "outputs": [
    {
     "name": "stdin",
     "output_type": "stream",
     "text": [
      " hello python\n"
     ]
    },
    {
     "name": "stdout",
     "output_type": "stream",
     "text": [
      "hello hello python python python \n"
     ]
    }
   ],
   "source": [
    "a, b = input().split()\n",
    "\n",
    "print((a + \" \") * 2 + (b + \" \") * 3)"
   ]
  },
  {
   "cell_type": "markdown",
   "id": "57f7c2c9",
   "metadata": {},
   "source": [
    "__დავალება 8.__\n",
    "\n",
    "ერთსტრიქონად შეიტანეთ ორი მთელი რიცხვი `a` და `b` ცვლადში. დაბეჭდეთ ინფორმაცია შემდეგი ფორმატით: `Variable a = <value>, variable b = <value>`. გამოიყენეთ სტრიქონების კონკატენაცია. `f`-სტრიქონები არ გამოიყენოთ.\n",
    "\n",
    "```python\n",
    "Sample Input:\n",
    "2 -5\n",
    "\n",
    "Sample Output:\n",
    "Variable a = 2, variable b = -5\n",
    "```"
   ]
  },
  {
   "cell_type": "code",
   "execution_count": 14,
   "id": "16a5cb71",
   "metadata": {},
   "outputs": [
    {
     "name": "stdin",
     "output_type": "stream",
     "text": [
      " 2 -5\n"
     ]
    },
    {
     "name": "stdout",
     "output_type": "stream",
     "text": [
      "Variable a = 2, Variable b = -5\n"
     ]
    }
   ],
   "source": [
    "a, b = input().split()\n",
    "\n",
    "print(\"Variable a =\", a + \",\", \"Variable b =\", b,)"
   ]
  },
  {
   "cell_type": "markdown",
   "id": "4a24cab3",
   "metadata": {},
   "source": [
    "__დავალება 9.__\n",
    "\n",
    "შეიტანეთ სტრიქონი და დაბეჭდეთ ინფორმაცია შემდეგი ფორმატით: `String: <inputed string>. Length: length of string`. `f`-სტრიქონები არ გამოიყენოთ.\n",
    "\n",
    "```python\n",
    "Sample Input:\n",
    "Hello Georgian Rugby\n",
    "\n",
    "Sample Output:\n",
    "String: Hello Georgian Rugby. Length: 20\n",
    "```"
   ]
  },
  {
   "cell_type": "code",
   "execution_count": 16,
   "id": "f8f7f7b3",
   "metadata": {},
   "outputs": [
    {
     "name": "stdin",
     "output_type": "stream",
     "text": [
      " Hello Georgian Rugby\n"
     ]
    },
    {
     "name": "stdout",
     "output_type": "stream",
     "text": [
      "String: Hello Georgian Rugby. Length :  20\n"
     ]
    }
   ],
   "source": [
    "a= input()\n",
    "\n",
    "print(\"String:\", a + '.', \"Length : \", len(a))"
   ]
  },
  {
   "cell_type": "markdown",
   "id": "4c76b9d1",
   "metadata": {},
   "source": [
    "__დავალება 10.__\n",
    "\n",
    "შეიტანეთ ორი სიტყვა ერთ ხაზზე. `in` ოპერატორის გამოყენებით დაბეჭდეთ `bool` ტიპის მნიშვნელობები: 1. ამოწმებს პირველ სიტყვის არსებობას მეორე სიტყვაში. 2. შეადარეთ სიტყვები შედარების ოპერატორის გამოყენებით (`==, >, <`). შედეგი დაბეჭდეთ ერთ სტრიქონად.\n",
    "\n",
    "```python\n",
    "Sample Input:\n",
    "hello python\n",
    "\n",
    "Sample Output:\n",
    "False False False True\n",
    "```"
   ]
  },
  {
   "cell_type": "code",
   "execution_count": 17,
   "id": "d7033c99",
   "metadata": {},
   "outputs": [
    {
     "name": "stdin",
     "output_type": "stream",
     "text": [
      " hello python\n"
     ]
    },
    {
     "name": "stdout",
     "output_type": "stream",
     "text": [
      "False False False True\n"
     ]
    }
   ],
   "source": [
    "a, b = input().split()\n",
    "\n",
    "print(a in b, a == b, a > b, a < b)"
   ]
  },
  {
   "cell_type": "markdown",
   "id": "b7c0323d",
   "metadata": {},
   "source": [
    "__დავალება 11.__\n",
    "\n",
    "კლავიატურიდან შეიტანეთ ორი სიმბოლო ერთ სტრიქონად, სიმბოლოები გამოყავით ინტერვალით. დაბეჭდეთ ინფორმაცია შემდეგი ფორმატით: `Codes: <letter1> = <code letter1>, <letter2> = <code  letter2>`\n",
    "\n",
    "```python\n",
    "Sample Input:\n",
    "a z\n",
    "\n",
    "Sample Output:\n",
    "Codes: a = 97, z = 122\n",
    "```"
   ]
  },
  {
   "cell_type": "code",
   "execution_count": 19,
   "id": "604284dd",
   "metadata": {},
   "outputs": [
    {
     "name": "stdin",
     "output_type": "stream",
     "text": [
      " a z\n"
     ]
    },
    {
     "name": "stdout",
     "output_type": "stream",
     "text": [
      "Codes: a = 97, z = 122\n"
     ]
    }
   ],
   "source": [
    "a, b = input().split()\n",
    "\n",
    "print(f\"Codes: {a} = {ord(a)}, {b} = {ord(b)}\")"
   ]
  },
  {
   "cell_type": "code",
   "execution_count": null,
   "id": "99f72c15-ae33-4f7a-8e80-3b04cfab8e05",
   "metadata": {},
   "outputs": [],
   "source": []
  }
 ],
 "metadata": {
  "kernelspec": {
   "display_name": "Python 3 (ipykernel)",
   "language": "python",
   "name": "python3"
  },
  "language_info": {
   "codemirror_mode": {
    "name": "ipython",
    "version": 3
   },
   "file_extension": ".py",
   "mimetype": "text/x-python",
   "name": "python",
   "nbconvert_exporter": "python",
   "pygments_lexer": "ipython3",
   "version": "3.12.6"
  }
 },
 "nbformat": 4,
 "nbformat_minor": 5
}

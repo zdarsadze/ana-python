{
 "cells": [
  {
   "cell_type": "markdown",
   "id": "778bc114",
   "metadata": {},
   "source": [
    "__დავალება 1.__\n",
    "\n",
    "შეასწორეთ შესაბამისობა:\n",
    "\n",
    "`<` – მეტია ან ტოლი\n",
    "\n",
    "`>` – არ არის ტოლი\n",
    "\n",
    "`<=` – ნაკლებია\n",
    "\n",
    "`>=` – შემოწმება ტოლობაზე\n",
    "\n",
    "`==` – ნაკლებია ან ტოლი\n",
    "\n",
    "`!=` – მეტია"
   ]
  },
  {
   "cell_type": "code",
   "execution_count": null,
   "id": "721f33a2",
   "metadata": {},
   "outputs": [],
   "source": [
    "< – ნაკლებია\n",
    "\n",
    "> – მეტია\n",
    "\n",
    "<= – ნაკლებია ან ტოლი\n",
    "\n",
    ">= – მეტია ან ტოლი\n",
    "\n",
    "== – შემოწმება ტოლობაზე\n",
    "\n",
    "!= – არ არის ტოლი"
   ]
  },
  {
   "cell_type": "markdown",
   "id": "efaed052",
   "metadata": {},
   "source": [
    "__დავალება 2.__\n",
    "\n",
    " `10 > 5` ოპერაციის შესრულებისას რა დაიბეჭდება? (პასუხი გაეცით კოდის შეუსრულებლად)\n",
    " \n",
    "* False\n",
    "* True"
   ]
  },
  {
   "cell_type": "code",
   "execution_count": null,
   "id": "94a9b939",
   "metadata": {},
   "outputs": [],
   "source": [
    "True"
   ]
  },
  {
   "cell_type": "markdown",
   "id": "c877955b",
   "metadata": {},
   "source": [
    "__დავალება 3.__\n",
    "\n",
    " `10 < 10` ოპერაციის შესრულებისას რა დაიბეჭდება? (პასუხი გაეცით კოდის შეუსრულებლად)\n",
    " \n",
    "* True\n",
    "* False"
   ]
  },
  {
   "cell_type": "code",
   "execution_count": 1,
   "id": "2fdefb36",
   "metadata": {},
   "outputs": [],
   "source": [
    "False"
   ]
  },
  {
   "cell_type": "markdown",
   "id": "c09cdb69",
   "metadata": {},
   "source": [
    "__დავალება 4.__\n",
    "\n",
    " `10 <= 10` ოპერაციის შესრულებისას რა დაიბეჭდება? (პასუხი გაეცით კოდის შეუსრულებლად)\n",
    " \n",
    "* True\n",
    "* False"
   ]
  },
  {
   "cell_type": "code",
   "execution_count": 1,
   "id": "63e30c39",
   "metadata": {},
   "outputs": [],
   "source": [
    "True"
   ]
  },
  {
   "cell_type": "markdown",
   "id": "b2994e0e",
   "metadata": {},
   "source": [
    "__დავალება 5.__\n",
    "\n",
    "კლავიატურიდან შეგვყავს ათწილადი ტიპის რიცხვი. უნდა გავარკვიოთ 3-ის ჯერადია თუ არა რიცხვის მთელი ნაწილი. ეკრანზე დაბეჭდეთ მხოლოდ `True` ან `False`.\n",
    " \n",
    "```python\n",
    "Sample Input:\n",
    "78.34\n",
    "\n",
    "Sample Output:\n",
    "True\n",
    "```"
   ]
  },
  {
   "cell_type": "code",
   "execution_count": 15,
   "id": "1464a07a",
   "metadata": {},
   "outputs": [
    {
     "name": "stdin",
     "output_type": "stream",
     "text": [
      "input number:  78.34\n"
     ]
    },
    {
     "name": "stdout",
     "output_type": "stream",
     "text": [
      "True\n"
     ]
    }
   ],
   "source": [
    "n = input(\"input number: \")\n",
    "print(int(float(n)) % 3 == 0)"
   ]
  },
  {
   "cell_type": "markdown",
   "id": "6f84246a",
   "metadata": {},
   "source": [
    "__დავალება 6.__\n",
    "\n",
    "წიგნის ფასია `X` ლარი (მაგ.: `X = 35.78`). უნდა განისაზღვროს ათწილადი ნაწილი (წერტილის შემდეგ ჩაწერილი ორნიშნა რიცხვი) მეტია თუ არა 50-ზე. ეკრანზე დაბეჭდეთ მხოლოდ `True` ან `False`.\n",
    " \n",
    "```python\n",
    "Sample Input:\n",
    "456.56\n",
    "\n",
    "Sample Output:\n",
    "True\n",
    "```"
   ]
  },
  {
   "cell_type": "code",
   "execution_count": 21,
   "id": "323bab3f",
   "metadata": {},
   "outputs": [
    {
     "name": "stdin",
     "output_type": "stream",
     "text": [
      "input number:  456.56\n"
     ]
    },
    {
     "name": "stdout",
     "output_type": "stream",
     "text": [
      "True\n"
     ]
    }
   ],
   "source": [
    "price = float(input(\"input number: \"))\n",
    "fraction = (price - int(price)) * 100\n",
    "print(fraction > 50)"
   ]
  },
  {
   "cell_type": "markdown",
   "id": "a522ce65",
   "metadata": {},
   "source": [
    "__დავალება 7.__\n",
    "\n",
    "შეიტანეთ ორი მთელი რიცხვი კლავიატურიდან ერთ სტრიქონად. უნდა განისაზღვროს იყოფა თუ არა პირველი მეორეზე უნაშთოდ. დაბეჭდეთ მხოლოდ `True` ან `False`\n",
    " \n",
    "```python\n",
    "Sample Input:\n",
    "12 3\n",
    "\n",
    "Sample Output:\n",
    "True\n",
    "```"
   ]
  },
  {
   "cell_type": "code",
   "execution_count": 31,
   "id": "5ee78d93",
   "metadata": {},
   "outputs": [
    {
     "name": "stdin",
     "output_type": "stream",
     "text": [
      "Enter two integers:  12 3\n"
     ]
    },
    {
     "name": "stdout",
     "output_type": "stream",
     "text": [
      "True\n"
     ]
    }
   ],
   "source": [
    "a, b = map(int, input(\"Enter two integers: \").split())\n",
    "print(a % b == 0)"
   ]
  },
  {
   "cell_type": "markdown",
   "id": "f587c3eb",
   "metadata": {},
   "source": [
    "__დავალება 8.__\n",
    "\n",
    "რა დაიბეჭდება `bool(12)`?\n",
    " \n",
    "* True\n",
    "* False"
   ]
  },
  {
   "cell_type": "code",
   "execution_count": 1,
   "id": "c9200660",
   "metadata": {},
   "outputs": [],
   "source": [
    "true"
   ]
  },
  {
   "cell_type": "markdown",
   "id": "26be15f1",
   "metadata": {},
   "source": [
    "__დავალება 9.__\n",
    "\n",
    "რა დაიბეჭდება `bool(4-4)`?\n",
    " \n",
    "* False\n",
    "* True"
   ]
  },
  {
   "cell_type": "code",
   "execution_count": 1,
   "id": "28862680",
   "metadata": {},
   "outputs": [],
   "source": [
    "False"
   ]
  },
  {
   "cell_type": "markdown",
   "id": "05e728d9",
   "metadata": {},
   "source": [
    "__დავალება 10.__\n",
    "\n",
    "შეიტანეთ სამი მთელი რიცხვი კლავიატურიდან ერთ სტრიქონად. უნდა განისაზღვროს შესაძლებელია თუ არა რიცხვები იყოს სამკუთხედის გვერდები (სამკუთხედის უტოლობა). დაბეჭდეთ მხოლოდ `True` ან `False`\n",
    " \n",
    "```python\n",
    "Sample Input:\n",
    "8 11 12\n",
    "\n",
    "Sample Output:\n",
    "True\n",
    "```"
   ]
  },
  {
   "cell_type": "code",
   "execution_count": 34,
   "id": "10614cae",
   "metadata": {},
   "outputs": [
    {
     "name": "stdin",
     "output_type": "stream",
     "text": [
      "Enter three integers:  8 11 12\n"
     ]
    },
    {
     "name": "stdout",
     "output_type": "stream",
     "text": [
      "True\n"
     ]
    }
   ],
   "source": [
    "a, b, c = map(int, input(\"Enter three integers: \").split())\n",
    "print((a + b > c) and (a + c > b) and (c + b > a))"
   ]
  },
  {
   "cell_type": "markdown",
   "id": "662e014e",
   "metadata": {},
   "source": [
    "__დავალება 11.__\n",
    "\n",
    "კლავიატურიდან შეიტანეთ ათწილადი ტიპის რიცხვი. უნდა განისაზღვროს მდებარეობს თუ არა ეს რიცხვი `[0; 2]` ან `[10; 20]` დიაპაზონში. დაბეჭდეთ მხოლოდ `True` ან `False`\n",
    " \n",
    "```python\n",
    "Sample Input:\n",
    "1.2\n",
    "\n",
    "Sample Output:\n",
    "True\n",
    "```"
   ]
  },
  {
   "cell_type": "code",
   "execution_count": 39,
   "id": "d2cc66ef",
   "metadata": {},
   "outputs": [
    {
     "name": "stdin",
     "output_type": "stream",
     "text": [
      "Enter number:  1.2\n"
     ]
    },
    {
     "name": "stdout",
     "output_type": "stream",
     "text": [
      "True\n"
     ]
    }
   ],
   "source": [
    "f = float(input(\"Enter number: \"))\n",
    "print(((f >= 0) and (f <= 2)) or ((f >= 10) and (f <= 20)))"
   ]
  },
  {
   "cell_type": "code",
   "execution_count": null,
   "id": "51b8f22d-7172-40b9-b645-d922681f82a9",
   "metadata": {},
   "outputs": [],
   "source": []
  }
 ],
 "metadata": {
  "kernelspec": {
   "display_name": "Python 3 (ipykernel)",
   "language": "python",
   "name": "python3"
  },
  "language_info": {
   "codemirror_mode": {
    "name": "ipython",
    "version": 3
   },
   "file_extension": ".py",
   "mimetype": "text/x-python",
   "name": "python",
   "nbconvert_exporter": "python",
   "pygments_lexer": "ipython3",
   "version": "3.12.6"
  }
 },
 "nbformat": 4,
 "nbformat_minor": 5
}

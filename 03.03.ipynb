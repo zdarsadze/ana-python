{
 "cells": [
  {
   "cell_type": "markdown",
   "id": "d8a2f8e5",
   "metadata": {},
   "source": [
    "__დავალება 1.__\n",
    "\n",
    "შეუთავსეთ ზოგიერთი სტრიქონის მეთოდის სახელები მათ აღწერილობებს.\n",
    "\n",
    "* `String.upper()` – ცვლის მითითებულ ქვესტრინგს ახალი ფრაგმენტით\n",
    "* `String.lower()` – განსაზღვრავს სტრიქონში ქვესტრინგის არსებობის რაოდენობას\n",
    "* `String.count()` – აბრუნებს სტრიქონს პატარა ასოებით\n",
    "* `String.find()` – ყოფს სტრიქონს ქვესტრიქონებად\n",
    "* `String.replace()` – აერთიანებს კოლექციას სტრიქონში\n",
    "* `String.split()` – აბრუნებს სტრიქონს დიდი ასოებით\n",
    "* `String.join()` – აბრუნებს პირველი ნაპოვნი სიმბოლოს ინდექსს"
   ]
  },
  {
   "cell_type": "code",
   "execution_count": null,
   "id": "a5afc8ab",
   "metadata": {},
   "outputs": [],
   "source": [
    "String.upper() – აბრუნებს სტრიქონს დიდი ასოებით\n",
    "String.lower() – აბრუნებს სტრიქონს პატარა ასოებით\n",
    "String.count() – განსაზღვრავს სტრიქონში ქვესტრინგის არსებობის რაოდენობას\n",
    "String.find() – აბრუნებს პირველი ნაპოვნი სიმბოლოს ინდექსს\n",
    "String.replace() – ცვლის მითითებულ ქვესტრინგს ახალი ფრაგმენტით\n",
    "String.split() – ყოფს სტრიქონს ქვესტრიქონებად\n",
    "String.join() – აერთიანებს კოლექციას სტრიქონში"
   ]
  },
  {
   "cell_type": "markdown",
   "id": "be3d90cc",
   "metadata": {},
   "source": [
    "__დავალება 2.__\n",
    "\n",
    "დაბეჭდეთ კლავიატურიდან შეტანილი სრიქონის პირველი ასო ზედა რეგისტრში, დანარჩენი – ქვედა რეგისტრში.\n",
    "\n",
    "```python\n",
    "Sample Input:\n",
    "HELLO\n",
    "\n",
    "Sample Output:\n",
    "Hello\n",
    "```"
   ]
  },
  {
   "cell_type": "code",
   "execution_count": 2,
   "id": "df796cee",
   "metadata": {},
   "outputs": [
    {
     "name": "stdin",
     "output_type": "stream",
     "text": [
      "Input string:  HELLO\n"
     ]
    },
    {
     "name": "stdout",
     "output_type": "stream",
     "text": [
      "Hello\n"
     ]
    }
   ],
   "source": [
    "x = input(\"Input string: \")\n",
    "print(x.capitalize())"
   ]
  },
  {
   "cell_type": "markdown",
   "id": "07bb4b1e-4a1d-4d75-816e-02e1af840617",
   "metadata": {},
   "source": [
    "__დავალება 3.__\n",
    "\n",
    "დაბეჭდეთ სტრიქონში არსებილი დეფისების რაოდენობა. სტრიქონი ეკრანიდან შეიტანება. \n",
    "\n",
    "```python\n",
    "Sample Input:\n",
    "Basic-strings-methods\n",
    "\n",
    "Sample Output:\n",
    "2"
   ]
  },
  {
   "cell_type": "code",
   "execution_count": 3,
   "id": "44aa4984",
   "metadata": {},
   "outputs": [
    {
     "name": "stdin",
     "output_type": "stream",
     "text": [
      " Basic-strings-methods\n"
     ]
    },
    {
     "name": "stdout",
     "output_type": "stream",
     "text": [
      "2\n"
     ]
    }
   ],
   "source": [
    "x = input()\n",
    "print(x.count('-'))\n",
    "\n"
   ]
  },
  {
   "cell_type": "markdown",
   "id": "f484d749-1361-4562-a8ef-472102839e59",
   "metadata": {},
   "source": [
    "__დავალება 4.__\n",
    "\n",
    "რას დააბრუნებს `String.index()` მეთოდი, თუ მითითებული ფრაგმენტი სტრიქონში არ აღმოჩნდა?\n",
    "\n",
    "* არაფერს, აღიძვრება შეცდომა `ValueError`\n",
    "* 0\n",
    "* -1\n",
    "* None"
   ]
  },
  {
   "cell_type": "code",
   "execution_count": 3,
   "id": "5ce79a7f",
   "metadata": {},
   "outputs": [],
   "source": [
    "არაფერს, აღიძვრება შეცდომა ValueError"
   ]
  },
  {
   "cell_type": "markdown",
   "id": "e102b5f5",
   "metadata": {},
   "source": [
    "__დავალება 5.__\n",
    "რას დააბრუნებს `String.find()` მეთოდი, თუ მითითებული ფრაგმენტი სტრიქონში არ აღმოჩნდა?\n",
    "\n",
    "* -1\n",
    "* არაფერს, აღიძვრება შეცდომა `ValueError`\n",
    "* None\n",
    "* 0"
   ]
  },
  {
   "cell_type": "code",
   "execution_count": 3,
   "id": "44064b1b",
   "metadata": {},
   "outputs": [],
   "source": [
    "-1"
   ]
  },
  {
   "cell_type": "markdown",
   "id": "90a764d7",
   "metadata": {},
   "source": [
    "__დავალება 6.__\n",
    "\n",
    "`String.find()` მეთოდის გამოყენებით იპოვეთ სტრიქონში პირველი ნაპოვნი ფრაგმენტის `\"ra\"` ინდექსი. სტრიქონი ეკრანიდან შეიტანება. შედეგი ეკრანზე დაბეჭდეთ.\n",
    "\n",
    "```python\n",
    "Sample Input:\n",
    "abrakadabra\n",
    "\n",
    "Sample Output:\n",
    "2\n",
    "```"
   ]
  },
  {
   "cell_type": "code",
   "execution_count": 5,
   "id": "520848fb",
   "metadata": {},
   "outputs": [
    {
     "name": "stdin",
     "output_type": "stream",
     "text": [
      " abrakadabra\n"
     ]
    },
    {
     "name": "stdout",
     "output_type": "stream",
     "text": [
      "2\n"
     ]
    }
   ],
   "source": [
    "x = input()\n",
    "\n",
    "print(x.find(\"ra\"))"
   ]
  },
  {
   "cell_type": "markdown",
   "id": "2631f5fd",
   "metadata": {},
   "source": [
    "__დავალება 7.__\n",
    "\n",
    "შეცვლაეთ სტრიქონში ორმაგი და სამმაგი დეფისები ერთმაგ დეფისად. სტრიქონი კლავიატურიდან შეიტანება. შედეგი დაბეჭდეთ.\n",
    "\n",
    "```python\n",
    "Sample Input:\n",
    "Add---slugs--slug-to--url---addresses\n",
    "\n",
    "Sample Output:\n",
    "Add-slugs-slug-to-url-addresses\n",
    "```"
   ]
  },
  {
   "cell_type": "code",
   "execution_count": 6,
   "id": "ac4bdf5f",
   "metadata": {},
   "outputs": [
    {
     "name": "stdin",
     "output_type": "stream",
     "text": [
      " Add---slugs--slug-to--url---addresses\n"
     ]
    },
    {
     "name": "stdout",
     "output_type": "stream",
     "text": [
      "Add-slugs-slug-to-url-addresses\n"
     ]
    }
   ],
   "source": [
    "x = input()\n",
    "print(x.replace('---', '-').replace('--', '-'))"
   ]
  },
  {
   "cell_type": "markdown",
   "id": "cf725d15",
   "metadata": {},
   "source": [
    "__დავალება 8.__\n",
    "\n",
    "ერთ სტრიქონად შეიტანეთ სამი მთელი, დადებითი რიცხვი (მაქსიმუმ სამი ციფრი.) დაბეჭდეთ რიცხვები ისე, რომ წინ ეწეროს შესამაბისი ნულები. რიცხვები მხოლოდ სამი ციფრისგან შედგება.\n",
    "\n",
    "```python\n",
    "Sample Input:\n",
    "8 11 123\n",
    "\n",
    "Sample Output:\n",
    "008\n",
    "011\n",
    "123\n",
    "```"
   ]
  },
  {
   "cell_type": "code",
   "execution_count": 7,
   "id": "c57588d0",
   "metadata": {},
   "outputs": [
    {
     "name": "stdin",
     "output_type": "stream",
     "text": [
      " 8 11 123\n"
     ]
    },
    {
     "name": "stdout",
     "output_type": "stream",
     "text": [
      "008\n",
      "011\n",
      "123\n"
     ]
    }
   ],
   "source": [
    "x1, x2, x3 = input().split()\n",
    "print(f\"{int(x1):03}\")\n",
    "print(f\"{int(x2):03}\")\n",
    "print(f\"{int(x3):03}\")"
   ]
  },
  {
   "cell_type": "markdown",
   "id": "b81f1902",
   "metadata": {},
   "source": [
    "__დავალება 9.__\n",
    "\n",
    "დაბეჭდეთ სიტყვების რაოდენობა სტრიქონში.\n",
    "\n",
    "```python\n",
    "Sample Input:\n",
    "I love Python\n",
    "\n",
    "Sample Output:\n",
    "3\n",
    "```"
   ]
  },
  {
   "cell_type": "code",
   "execution_count": 8,
   "id": "07a71249",
   "metadata": {},
   "outputs": [
    {
     "name": "stdin",
     "output_type": "stream",
     "text": [
      " I love Python\n"
     ]
    },
    {
     "name": "stdout",
     "output_type": "stream",
     "text": [
      "3\n"
     ]
    }
   ],
   "source": [
    "x = input()\n",
    "print(len(x.split()))"
   ]
  },
  {
   "cell_type": "markdown",
   "id": "221a3726",
   "metadata": {},
   "source": [
    "__დავალება 10.__\n",
    "\n",
    "კლავიატურიდან შეტანილია ქალაქების სახელები ინტერვალებით. გარდაქმენით სტრიქონი ისე, რომ ქალაქები გამოიყოს წერტილ-მძიმით. შედეგი დაბეჭდეთ.\n",
    "\n",
    "```python\n",
    "Sample Input:\n",
    "Tbilisi Batumi Zugdidi\n",
    "\n",
    "Sample Output:\n",
    "Tbilisi;Batumi;Zugdidi\n",
    "```"
   ]
  },
  {
   "cell_type": "code",
   "execution_count": 9,
   "id": "f8e661ee",
   "metadata": {},
   "outputs": [
    {
     "name": "stdin",
     "output_type": "stream",
     "text": [
      " Tbilisi Batumi Zugdidi\n"
     ]
    },
    {
     "name": "stdout",
     "output_type": "stream",
     "text": [
      "Tbilisi;Batumi;Zugdidi\n"
     ]
    }
   ],
   "source": [
    "x = input()\n",
    "print(x.replace(\" \", \";\"))"
   ]
  },
  {
   "cell_type": "markdown",
   "id": "f1da1981",
   "metadata": {},
   "source": [
    "__დავალება 11.__\n",
    "\n",
    "შეუთავსეთ ზოგიერთი სტრიქონის მეთოდის სახელები მათ აღწერილობებს.\n",
    "\n",
    "* `String.rjust()` – შლის ინტერვალებს და ახალ ხაზზე გადასვლის სომბოლოს მარჯვნივ\n",
    "* `String.ljust()` – შლის ინტერვალებს და ახალ ხაზზე გადასვლის სომბოლოს მარცხნივ\n",
    "* `String.strip()` – აბრუნებს პირველი ნაპოვნი ფრაგმენტის პირველი სიმბოლოს ინდექსს მარჯვნიდან\n",
    "* `String.rstrip()` – აფართოებს სტრიქონს სიმბოლოების დამატებით მარცხნივ\n",
    "* `String.lstrip()` – აფართოებს სტრიქონს სიმბოლოების დამატებით მარჯვნივ\n",
    "* `String.rfind()` – შლის ინტერვალებსა და ახალ ხაზზე გადასვლის სიმბოლოებს მარჯვნიდან და მარცხნიდან"
   ]
  },
  {
   "cell_type": "code",
   "execution_count": null,
   "id": "13b981c9",
   "metadata": {},
   "outputs": [],
   "source": [
    "String.rjust() – აფართოებს სტრიქონს სიმბოლოების დამატებით მარჯვნივ (მაგალითად, ახალი სივრცის დამატებით).\n",
    "\n",
    "String.ljust() – აფართოებს სტრიქონს სიმბოლოების დამატებით მარცხნივ.\n",
    "\n",
    "String.strip() – შლის ინტერვალებსა და ახალ ხაზზე გადასვლის სიმბოლოებს მარცხნიდან და მარჯვნიდან.\n",
    "\n",
    "String.rstrip() – შლის ინტერვალებსა და ახალ ხაზზე გადასვლის სიმბოლოებს მხოლოდ მარჯვნიდან.\n",
    "\n",
    "String.lstrip() – შლის ინტერვალებსა და ახალ ხაზზე გადასვლის სიმბოლოებს მხოლოდ მარცხნიდან.\n",
    "\n",
    "String.rfind() – აბრუნებს პირველი ნაპოვნი ფრაგმენტის პირველი სიმბოლოს ინდექსს მარჯვნიდან."
   ]
  }
 ],
 "metadata": {
  "kernelspec": {
   "display_name": "Python 3 (ipykernel)",
   "language": "python",
   "name": "python3"
  },
  "language_info": {
   "codemirror_mode": {
    "name": "ipython",
    "version": 3
   },
   "file_extension": ".py",
   "mimetype": "text/x-python",
   "name": "python",
   "nbconvert_exporter": "python",
   "pygments_lexer": "ipython3",
   "version": "3.12.6"
  }
 },
 "nbformat": 4,
 "nbformat_minor": 5
}
